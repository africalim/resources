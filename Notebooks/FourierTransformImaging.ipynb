{
 "cells": [
  {
   "cell_type": "markdown",
   "metadata": {},
   "source": [
    "# Radio Sources, Visibilities and Source Geometry"
   ]
  },
  {
   "cell_type": "code",
   "execution_count": 1,
   "metadata": {},
   "outputs": [],
   "source": [
    "import numpy as np\n",
    "import matplotlib.pyplot as plt\n",
    "import sympy as sp\n",
    "import healpy as hp"
   ]
  },
  {
   "cell_type": "code",
   "execution_count": 2,
   "metadata": {},
   "outputs": [],
   "source": [
    "sp.init_printing(use_latex='mathjax')\n",
    "t = sp.Symbol('t', real=True)"
   ]
  },
  {
   "cell_type": "markdown",
   "metadata": {},
   "source": [
    "## Source Geometry\n",
    "\n",
    "Electric field sources are in angular co-ordinates ($\\theta_0, \\phi_0$), where $\\theta$ is the azimuthal angle (measured from the zenith). Sources also have a well defined:\n",
    "\n",
    "* frequency $\\omega$, yes single frequencies here.\n",
    "* phase offset, $\\psi_0$\n",
    "* amplitude, $E_o(t)$ (assume they're point sources for the moment).\n",
    "* distance $R$ from the telescope."
   ]
  },
  {
   "cell_type": "code",
   "execution_count": 3,
   "metadata": {},
   "outputs": [
    {
     "data": {
      "text/latex": [
       "$\\displaystyle R$"
      ],
      "text/plain": [
       "R"
      ]
     },
     "execution_count": 3,
     "metadata": {},
     "output_type": "execute_result"
    }
   ],
   "source": [
    "theta0 = sp.Symbol('theta_0', real=True)\n",
    "phi0 = sp.Symbol('phi_0', real=True)\n",
    "\n",
    "# coordinates of the source...\n",
    "R = sp.Symbol('R', real=True, positive=True)\n",
    "pz = R*sp.cos(theta0)\n",
    "px = R*sp.sin(theta0)*sp.sin(phi0)\n",
    "py = R*sp.sin(theta0)*sp.cos(phi0)\n",
    "\n",
    "# Distance to the source\n",
    "d0 = sp.simplify(sp.sqrt(px**2 + py**2 + pz**2))   # Distance to source from the phase center\n",
    "d0"
   ]
  },
  {
   "cell_type": "markdown",
   "metadata": {},
   "source": [
    "We calculate the distance to the source from an antenna location $(x,y,z)$."
   ]
  },
  {
   "cell_type": "code",
   "execution_count": 4,
   "metadata": {},
   "outputs": [
    {
     "data": {
      "text/latex": [
       "$\\displaystyle \\sqrt{R^{2} \\sin^{2}{\\left(\\phi_{0} \\right)} \\sin^{2}{\\left(\\theta_{0} \\right)} + R^{2} \\sin^{2}{\\left(\\theta_{0} \\right)} \\cos^{2}{\\left(\\phi_{0} \\right)} + R^{2} \\cos^{2}{\\left(\\theta_{0} \\right)} - 2 R x \\sin{\\left(\\phi_{0} \\right)} \\sin{\\left(\\theta_{0} \\right)} - 2 R y \\sin{\\left(\\theta_{0} \\right)} \\cos{\\left(\\phi_{0} \\right)} - 2 R z \\cos{\\left(\\theta_{0} \\right)} + x^{2} + y^{2} + z^{2}}$"
      ],
      "text/plain": [
       "   ___________________________________________________________________________ ↪\n",
       "  ╱  2    2        2        2    2        2        2    2                      ↪\n",
       "╲╱  R ⋅sin (φ₀)⋅sin (θ₀) + R ⋅sin (θ₀)⋅cos (φ₀) + R ⋅cos (θ₀) - 2⋅R⋅x⋅sin(φ₀)⋅ ↪\n",
       "\n",
       "↪ _______________________________________________________________\n",
       "↪                                                    2    2    2 \n",
       "↪ sin(θ₀) - 2⋅R⋅y⋅sin(θ₀)⋅cos(φ₀) - 2⋅R⋅z⋅cos(θ₀) + x  + y  + z  "
      ]
     },
     "execution_count": 4,
     "metadata": {},
     "output_type": "execute_result"
    }
   ],
   "source": [
    "# Coordinates of the antenna\n",
    "x = sp.Symbol('x', real=True)\n",
    "y = sp.Symbol('y', real=True)\n",
    "z = sp.Symbol('z', real=True) \n",
    "# Distance to source from position (x,y,z)\n",
    "d1 = sp.expand(sp.sqrt((px-x)**2 + (py - y)**2 + (pz-z)**2)) \n",
    "d1"
   ]
  },
  {
   "cell_type": "code",
   "execution_count": 5,
   "metadata": {},
   "outputs": [
    {
     "name": "stdout",
     "output_type": "stream",
     "text": [
      "\\sqrt{R^{2} \\sin^{2}{\\left(\\phi_{0} \\right)} \\sin^{2}{\\left(\\theta_{0} \\right)} + R^{2} \\sin^{2}{\\left(\\theta_{0} \\right)} \\cos^{2}{\\left(\\phi_{0} \\right)} + R^{2} \\cos^{2}{\\left(\\theta_{0} \\right)} - 2 R x \\sin{\\left(\\phi_{0} \\right)} \\sin{\\left(\\theta_{0} \\right)} - 2 R y \\sin{\\left(\\theta_{0} \\right)} \\cos{\\left(\\phi_{0} \\right)} - 2 R z \\cos{\\left(\\theta_{0} \\right)} + x^{2} + y^{2} + z^{2}}\n"
     ]
    }
   ],
   "source": [
    "print(sp.latex(d1))"
   ]
  },
  {
   "cell_type": "markdown",
   "metadata": {},
   "source": [
    "Calculate the path length difference between the source, $R$, and the antenna-source distance and take the limit as $R \\rightarrow \\infty$."
   ]
  },
  {
   "cell_type": "code",
   "execution_count": 6,
   "metadata": {},
   "outputs": [
    {
     "name": "stdout",
     "output_type": "stream",
     "text": [
      "R - \\sqrt{R^{2} - 2 R x \\sin{\\left(\\phi_{0} \\right)} \\sin{\\left(\\theta_{0} \\right)} - 2 R y \\sin{\\left(\\theta_{0} \\right)} \\cos{\\left(\\phi_{0} \\right)} - 2 R z \\cos{\\left(\\theta_{0} \\right)} + x^{2} + y^{2} + z^{2}}\n"
     ]
    },
    {
     "data": {
      "text/latex": [
       "$\\displaystyle R - \\sqrt{R^{2} - 2 R x \\sin{\\left(\\phi_{0} \\right)} \\sin{\\left(\\theta_{0} \\right)} - 2 R y \\sin{\\left(\\theta_{0} \\right)} \\cos{\\left(\\phi_{0} \\right)} - 2 R z \\cos{\\left(\\theta_{0} \\right)} + x^{2} + y^{2} + z^{2}}$"
      ],
      "text/plain": [
       "       _______________________________________________________________________ ↪\n",
       "      ╱  2                                                                     ↪\n",
       "R - ╲╱  R  - 2⋅R⋅x⋅sin(φ₀)⋅sin(θ₀) - 2⋅R⋅y⋅sin(θ₀)⋅cos(φ₀) - 2⋅R⋅z⋅cos(θ₀) + x ↪\n",
       "\n",
       "↪ ____________\n",
       "↪ 2    2    2 \n",
       "↪   + y  + z  "
      ]
     },
     "execution_count": 6,
     "metadata": {},
     "output_type": "execute_result"
    }
   ],
   "source": [
    "drR = sp.simplify(d0 -  d1)    # Change in distance at from antenna to source as a function of R\n",
    "print(sp.latex(drR))\n",
    "drR"
   ]
  },
  {
   "cell_type": "code",
   "execution_count": 7,
   "metadata": {},
   "outputs": [
    {
     "data": {
      "text/latex": [
       "$\\displaystyle x \\sin{\\left(\\phi_{0} \\right)} \\sin{\\left(\\theta_{0} \\right)} + y \\sin{\\left(\\theta_{0} \\right)} \\cos{\\left(\\phi_{0} \\right)} + z \\cos{\\left(\\theta_{0} \\right)}$"
      ],
      "text/plain": [
       "x⋅sin(φ₀)⋅sin(θ₀) + y⋅sin(θ₀)⋅cos(φ₀) + z⋅cos(θ₀)"
      ]
     },
     "execution_count": 7,
     "metadata": {},
     "output_type": "execute_result"
    }
   ],
   "source": [
    "dr = sp.limit(drR, R, sp.oo, \"-\")\n",
    "dr"
   ]
  },
  {
   "cell_type": "markdown",
   "metadata": {},
   "source": [
    "So we could specify the path length in terms of the \"direction cosines\", \n",
    "\n",
    "$$l = \\sin(\\phi)\\sin(\\theta)$$\n",
    "$$m = \\cos(\\phi)\\sin(\\theta)$$ \n",
    "$$n=\\cos(\\theta)$$\n",
    "\n",
    "Which looks like $dr = l x + m y + n z$, but why replace two variables with three?"
   ]
  },
  {
   "cell_type": "code",
   "execution_count": 8,
   "metadata": {},
   "outputs": [
    {
     "name": "stdout",
     "output_type": "stream",
     "text": [
      "x \\sin{\\left(\\phi_{0} \\right)} \\sin{\\left(\\theta_{0} \\right)} + y \\sin{\\left(\\theta_{0} \\right)} \\cos{\\left(\\phi_{0} \\right)} + z \\cos{\\left(\\theta_{0} \\right)}\n",
      "x = Symbol('x')\n",
      "phi_0 = Symbol('phi_0')\n",
      "theta_0 = Symbol('theta_0')\n",
      "y = Symbol('y')\n",
      "z = Symbol('z')\n",
      "e = x*sin(phi_0)*sin(theta_0) + y*sin(theta_0)*cos(phi_0) + z*cos(theta_0)\n"
     ]
    }
   ],
   "source": [
    "print(sp.latex(dr))\n",
    "print(sp.python(dr))"
   ]
  },
  {
   "cell_type": "markdown",
   "metadata": {},
   "source": [
    "### Radio Source\n",
    "\n",
    "We create a radio source object that knows how to calculate the path-length difference, and its electric field strength at any position $(x,y,z)$.\n",
    "\n",
    "A source has a complex amplitude $E(t)$ that encodes it's slowly varying amplitude and phase."
   ]
  },
  {
   "cell_type": "code",
   "execution_count": 9,
   "metadata": {},
   "outputs": [],
   "source": [
    "c = sp.Symbol('c', real=True, positive=True)\n",
    "wavelength = sp.Symbol('lambda', real=True, positive=True)\n",
    "\n",
    "class Source:\n",
    "    def __init__(self, th, ph, amplitude):\n",
    "        self.theta = th\n",
    "        self.phi = ph\n",
    "        self.amplitude = amplitude\n",
    "\n",
    "    def field(self, omega, x, y, z):\n",
    "        global t\n",
    "        # Define phase as zero at the origin (0,0,0) in the antenna coordinates. This will return the field\n",
    "        # at a position (x,y,z) with phase determined by path length\n",
    "        phi_0 = self.phi\n",
    "        theta_0 = self.theta\n",
    "        dr = x*sp.sin(phi_0)*sp.sin(theta_0) + y*sp.sin(theta_0)*sp.cos(phi_0) + z*sp.cos(theta_0)\n",
    "        k = 2*sp.pi / wavelength\n",
    "        #wavelength =  (2 * sp.pi *c) / (omega)   # c = f lambda   = (omega / 2 pi) * lambda. lambda = 2*pi*c / omega\n",
    "        phase = 2*sp.pi*dr/wavelength\n",
    "        return self.amplitude*sp.exp(sp.I*(omega*t + k*dr))"
   ]
  },
  {
   "cell_type": "code",
   "execution_count": 10,
   "metadata": {},
   "outputs": [],
   "source": [
    "class Sky:\n",
    "    def __init__(self):\n",
    "        self.sources = []\n",
    "\n",
    "    def add(self, s):\n",
    "        self.sources.append(s)"
   ]
  },
  {
   "cell_type": "markdown",
   "metadata": {},
   "source": [
    "Lets create the sky and add a point source to it."
   ]
  },
  {
   "cell_type": "code",
   "execution_count": 11,
   "metadata": {},
   "outputs": [],
   "source": [
    "sky = Sky()\n",
    "\n",
    "theta0 = sp.Symbol('theta_0', real=True)\n",
    "phi0 = sp.Symbol('phi_0', real=True)\n",
    "omega = sp.Symbol('omega', real=True)\n",
    "amplitude0 = sp.Function('E_0')(omega, t)\n",
    "sky.add(Source(theta0, phi0, amplitude0))\n"
   ]
  },
  {
   "cell_type": "code",
   "execution_count": 12,
   "metadata": {},
   "outputs": [],
   "source": [
    "class Telescope:\n",
    "    def __init__(self, n, max_wl=10):\n",
    "        \"\"\" positions in wavelengths with maximum number of wavelengths\"\"\"\n",
    "        pos = (np.round(np.random.uniform(0, max_wl, (n,2))*1000.0))/1000.0\n",
    "        self.positions = pos"
   ]
  },
  {
   "cell_type": "code",
   "execution_count": 13,
   "metadata": {},
   "outputs": [],
   "source": [
    "telescope = Telescope(10)\n",
    "N_time_steps = 50\n",
    "OMEGA_0 = 0.1\n",
    "freq0 = 2*np.pi*OMEGA_0*1.3\n",
    "period0 = 1.0/freq0\n",
    "T_max = N_time_steps*period0"
   ]
  },
  {
   "cell_type": "markdown",
   "metadata": {},
   "source": [
    "## Radio Receiver\n",
    "\n",
    "What does a radio receiver do? Well it does some fancy electronics that grabs the signal from around a frequency $\\omega$ and converts it to a signal at a much lower frequency. This magic is called down-conversion or _mixing_ and a bit of filtering...\n",
    "\n",
    "A receiver is at a location $(x,y,z)$ and its signal is the sum of all the electric fields from all the sources in the sky. The good old principle of superposition from first-year physics?"
   ]
  },
  {
   "cell_type": "code",
   "execution_count": 14,
   "metadata": {},
   "outputs": [],
   "source": [
    "class Receiver:\n",
    "    def __init__(self, x, y, z, omega):\n",
    "        self.x = x\n",
    "        self.y = y\n",
    "        self.z = z\n",
    "        self.omega = omega\n",
    "\n",
    "    def field(self, sky):\n",
    "        # Electric fields are generated at the position on the x-axis, with frequency omega\n",
    "        efield = 0.0\n",
    "        for s in sky.sources:\n",
    "            efield += s.field(self.omega, self.x, self.y, self.z)\n",
    "        return efield\n",
    "\n",
    "    ''' The data from the reciever is mixed down to a baseband frequency omega_0\n",
    "    '''\n",
    "    def baseband(self, sky, omega_0):\n",
    "        global t\n",
    "        efield = self.field(sky)\n",
    "        # bb = sp.simplify((sp.exp(sp.I*(self.omega-omega_0)*t)*efield) / sp.exp(sp.I*2*self.omega*t))\n",
    "        bb = efield*sp.exp(-sp.I*(self.omega*t))\n",
    "        return sp.simplify(bb)"
   ]
  },
  {
   "cell_type": "code",
   "execution_count": 15,
   "metadata": {},
   "outputs": [],
   "source": [
    "'''\n",
    "   Now add a receiver at position 'x'\n",
    "'''\n",
    "x = sp.Symbol('x', real=True)\n",
    "y = sp.Symbol('y', real=True)\n",
    "z = sp.Symbol('z', real=True)\n",
    "omega = sp.Symbol('omega', real=True, positive=True)\n",
    "\n",
    "rx = Receiver(x, y, z, omega)"
   ]
  },
  {
   "cell_type": "code",
   "execution_count": 16,
   "metadata": {},
   "outputs": [
    {
     "data": {
      "text/latex": [
       "$\\displaystyle E_{0}{\\left(\\omega,t \\right)} e^{i \\left(\\omega t + \\frac{2 \\pi \\left(x \\sin{\\left(\\phi_{0} \\right)} \\sin{\\left(\\theta_{0} \\right)} + y \\sin{\\left(\\theta_{0} \\right)} \\cos{\\left(\\phi_{0} \\right)} + z \\cos{\\left(\\theta_{0} \\right)}\\right)}{\\lambda}\\right)}$"
      ],
      "text/plain": [
       "            ⎛      2⋅π⋅(x⋅sin(φ₀)⋅sin(θ₀) + y⋅sin(θ₀)⋅cos(φ₀) + z⋅cos(θ₀))⎞\n",
       "          ⅈ⋅⎜ω⋅t + ───────────────────────────────────────────────────────⎟\n",
       "            ⎝                                 λ                           ⎠\n",
       "E₀(ω, t)⋅ℯ                                                                 "
      ]
     },
     "execution_count": 16,
     "metadata": {},
     "output_type": "execute_result"
    }
   ],
   "source": [
    "rx.field(sky)"
   ]
  },
  {
   "cell_type": "code",
   "execution_count": 17,
   "metadata": {},
   "outputs": [
    {
     "name": "stdout",
     "output_type": "stream",
     "text": [
      "E_{0}{\\left(\\omega,t \\right)} e^{i \\left(\\omega t + \\frac{2 \\pi \\left(x \\sin{\\left(\\phi_{0} \\right)} \\sin{\\left(\\theta_{0} \\right)} + y \\sin{\\left(\\theta_{0} \\right)} \\cos{\\left(\\phi_{0} \\right)} + z \\cos{\\left(\\theta_{0} \\right)}\\right)}{\\lambda}\\right)}\n"
     ]
    }
   ],
   "source": [
    "print(sp.latex(rx.field(sky)))"
   ]
  },
  {
   "cell_type": "code",
   "execution_count": 18,
   "metadata": {},
   "outputs": [
    {
     "data": {
      "text/latex": [
       "$\\displaystyle E_{0}{\\left(\\omega,t \\right)} e^{\\frac{2 i \\pi \\left(x \\sin{\\left(\\phi_{0} \\right)} \\sin{\\left(\\theta_{0} \\right)} + y \\sin{\\left(\\theta_{0} \\right)} \\cos{\\left(\\phi_{0} \\right)} + z \\cos{\\left(\\theta_{0} \\right)}\\right)}{\\lambda}}$"
      ],
      "text/plain": [
       "          2⋅ⅈ⋅π⋅(x⋅sin(φ₀)⋅sin(θ₀) + y⋅sin(θ₀)⋅cos(φ₀) + z⋅cos(θ₀))\n",
       "          ─────────────────────────────────────────────────────────\n",
       "                                      λ                            \n",
       "E₀(ω, t)⋅ℯ                                                         "
      ]
     },
     "execution_count": 18,
     "metadata": {},
     "output_type": "execute_result"
    }
   ],
   "source": [
    "omega_0 = omega # sp.Symbol('omega_0', real=True, positive=True)\n",
    "\n",
    "bb = rx.baseband(sky, omega_0)\n",
    "bb"
   ]
  },
  {
   "cell_type": "code",
   "execution_count": 19,
   "metadata": {},
   "outputs": [
    {
     "name": "stdout",
     "output_type": "stream",
     "text": [
      "E_{0}{\\left(\\omega,t \\right)} e^{\\frac{2 i \\pi \\left(x \\sin{\\left(\\phi_{0} \\right)} \\sin{\\left(\\theta_{0} \\right)} + y \\sin{\\left(\\theta_{0} \\right)} \\cos{\\left(\\phi_{0} \\right)} + z \\cos{\\left(\\theta_{0} \\right)}\\right)}{\\lambda}}\n"
     ]
    },
    {
     "data": {
      "text/latex": [
       "$\\displaystyle E_{0}{\\left(\\omega,t \\right)} e^{\\frac{2 i \\pi \\left(x \\sin{\\left(\\phi_{0} \\right)} \\sin{\\left(\\theta_{0} \\right)} + y \\sin{\\left(\\theta_{0} \\right)} \\cos{\\left(\\phi_{0} \\right)} + z \\cos{\\left(\\theta_{0} \\right)}\\right)}{\\lambda}}$"
      ],
      "text/plain": [
       "          2⋅ⅈ⋅π⋅(x⋅sin(φ₀)⋅sin(θ₀) + y⋅sin(θ₀)⋅cos(φ₀) + z⋅cos(θ₀))\n",
       "          ─────────────────────────────────────────────────────────\n",
       "                                      λ                            \n",
       "E₀(ω, t)⋅ℯ                                                         "
      ]
     },
     "execution_count": 19,
     "metadata": {},
     "output_type": "execute_result"
    }
   ],
   "source": [
    "print(sp.latex(bb))\n",
    "re_bb_model = sp.simplify(bb) # sp.simplify(sp.re(bb))\n",
    "re_bb_model"
   ]
  },
  {
   "cell_type": "markdown",
   "metadata": {},
   "source": [
    "## Radio Astronomy\n",
    "\n",
    "Can we work out where a source is from this information? Not really. If we measure the signal, we'd have to know the exact form of $E_0(t)$ to work out it's coordinates, $(\\theta_0, \\phi_0)$. If we averaged $E(t)$ we'd get zero!\n",
    "\n",
    ":("
   ]
  },
  {
   "cell_type": "markdown",
   "metadata": {},
   "source": [
    "theta_actual, phi_actual, phase_actual = sp.pi/6, 2*sp.pi/3, 0.45 #np.random.uniform(-np.pi/2., np.pi/2.),  np.random.uniform(0, np.pi*2.)\n",
    "theta_actual2, phi_actual2, phase_actual2 = sp.pi/12, sp.pi/3, 1.45 #np.random.uniform(-np.pi/2., np.pi/2.),  np.random.uniform(0, np.pi*2.)\n",
    "theta_deg = theta_actual*180.0 / sp.pi\n",
    "phi_deg = phi_actual*180.0 / sp.pi\n",
    "\n",
    "bb_actual1 = bb.subs([(theta0, theta_actual),(phi0, phi_actual), (phase0, phase_actual)])\n",
    "bb_actual2 = bb.subs([(theta0, theta_actual2),(phi0, phi_actual2), (phase0, phase_actual2)])\n",
    "bb_actual = bb_actual1 + bb_actual2\n",
    "\n",
    "re_bb_data = sp.expand(bb_actual)\n",
    "print('Real Baseband Data')\n",
    "re_bb_data"
   ]
  },
  {
   "cell_type": "markdown",
   "metadata": {},
   "source": [
    "## Visibility\n",
    "\n",
    "To help with finding the sky from the measurements, we need something that doesn't average to zero.\n",
    "\n",
    "The _visibility_ is the inner product of the signals from the two antennas. The antennas are located at $(x_1, y_1, z_1)$, and $(x_2, y_2, z_2)$.\n",
    "\n",
    "$$ V_{1,2} = \\int_t E_1(t) \\bar{E_2}(t) dt $$\n",
    "\n",
    "Where $\\bar{E}(t)$ is the complex conjugate. \n",
    "\n",
    "#### Why the conjugate? \n",
    "\n",
    "Well imagine two fields with different phases $E_1 = e^{i (\\omega t + \\phi_1)}$, and $E_2 = e^{i (\\omega t + \\phi_2)} $. If we _didn't_ use the conjugate then the visibility would be:\n",
    "\n",
    "$$ V = E_1 E_2 = e^{i (\\omega t + \\phi_1)} e^{i (\\omega t + \\phi_2)} = e^{i 2 \\omega t}e^{i(\\phi_1 + \\phi_2)}$$\n",
    "\n",
    "and the visibility would depend on the absolute phase - and the and wouldn't be very usedful as the choice of phase is arbitrary, and this expression would average to zero.\n",
    "\n",
    "Using the conjugate makes it depend on the phase difference.\n",
    "\n",
    "$$ V = E_1 \\bar{E_2} = e^{i (\\omega t + \\phi_1)} e^{-i (\\omega t + \\phi_2)} = e^{i(\\phi_1 - \\phi_2)}$$\n",
    "\n",
    "And this does not average to zero..."
   ]
  },
  {
   "cell_type": "code",
   "execution_count": 20,
   "metadata": {},
   "outputs": [],
   "source": [
    "class Analytic_vis:\n",
    "    def __init__(self, x_1, y_1, x_2, y_2, z_1, z_2, bb_model):\n",
    "        self.bb1 = bb_model.subs([(x,x_1),(y, y_1),(z, z_1)])\n",
    "        self.bb2 = bb_model.subs([(x,x_2),(y, y_2),(z, z_2)])\n",
    "    \n",
    "        self.vis = self.bb1 * sp.conjugate(self.bb2)\n",
    "\n",
    "    def get_vis(self):\n",
    "        return self.vis"
   ]
  },
  {
   "cell_type": "code",
   "execution_count": 21,
   "metadata": {},
   "outputs": [
    {
     "data": {
      "text/latex": [
       "$\\displaystyle E_{0}{\\left(\\omega,t \\right)} e^{\\frac{2 i \\pi \\left(x_{1} \\sin{\\left(\\phi_{0} \\right)} \\sin{\\left(\\theta_{0} \\right)} - x_{2} \\sin{\\left(\\phi_{0} \\right)} \\sin{\\left(\\theta_{0} \\right)} + y_{1} \\sin{\\left(\\theta_{0} \\right)} \\cos{\\left(\\phi_{0} \\right)} - y_{2} \\sin{\\left(\\theta_{0} \\right)} \\cos{\\left(\\phi_{0} \\right)} + z_{1} \\cos{\\left(\\theta_{0} \\right)} - z_{2} \\cos{\\left(\\theta_{0} \\right)}\\right)}{\\lambda}} \\overline{E_{0}{\\left(\\omega,t \\right)}}$"
      ],
      "text/plain": [
       "          2⋅ⅈ⋅π⋅(x₁⋅sin(φ₀)⋅sin(θ₀) - x₂⋅sin(φ₀)⋅sin(θ₀) + y₁⋅sin(θ₀)⋅cos(φ₀)  ↪\n",
       "          ──────────────────────────────────────────────────────────────────── ↪\n",
       "                                                                   λ           ↪\n",
       "E₀(ω, t)⋅ℯ                                                                     ↪\n",
       "\n",
       "↪ - y₂⋅sin(θ₀)⋅cos(φ₀) + z₁⋅cos(θ₀) - z₂⋅cos(θ₀))         \n",
       "↪ ───────────────────────────────────────────────         \n",
       "↪                                                 ________\n",
       "↪                                                ⋅E₀(ω, t)"
      ]
     },
     "execution_count": 21,
     "metadata": {},
     "output_type": "execute_result"
    }
   ],
   "source": [
    "x1 = sp.Symbol('x_1', real=True)\n",
    "x2 = sp.Symbol('x_2', real=True)\n",
    "y1 = sp.Symbol('y_1', real=True)\n",
    "y2 = sp.Symbol('y_2', real=True)\n",
    "z1 = sp.Symbol('z_1', real=True)\n",
    "z2 = sp.Symbol('z_2', real=True)\n",
    "\n",
    "analytic_vis = Analytic_vis(x1, y1, x2, y2, z1, z2, bb).get_vis()\n",
    "sp.simplify(analytic_vis)"
   ]
  },
  {
   "cell_type": "code",
   "execution_count": 22,
   "metadata": {},
   "outputs": [
    {
     "name": "stdout",
     "output_type": "stream",
     "text": [
      "E_{0}{\\left(\\omega,t \\right)} e^{\\frac{2 i \\pi \\left(x_{1} \\sin{\\left(\\phi_{0} \\right)} \\sin{\\left(\\theta_{0} \\right)} - x_{2} \\sin{\\left(\\phi_{0} \\right)} \\sin{\\left(\\theta_{0} \\right)} + y_{1} \\sin{\\left(\\theta_{0} \\right)} \\cos{\\left(\\phi_{0} \\right)} - y_{2} \\sin{\\left(\\theta_{0} \\right)} \\cos{\\left(\\phi_{0} \\right)} + z_{1} \\cos{\\left(\\theta_{0} \\right)} - z_{2} \\cos{\\left(\\theta_{0} \\right)}\\right)}{\\lambda}} \\overline{E_{0}{\\left(\\omega,t \\right)}}\n"
     ]
    }
   ],
   "source": [
    "print(sp.latex(sp.simplify(analytic_vis)))"
   ]
  },
  {
   "cell_type": "markdown",
   "metadata": {},
   "source": [
    "So the visibility for a source at a location is related to the magnitude of the electric field received at that location squared."
   ]
  },
  {
   "cell_type": "markdown",
   "metadata": {},
   "source": [
    "### Introducing the U-V-W plane\n",
    "\n",
    "This visibility can be simplified by introducing quantities to represent the distance between the pair of antennas in the x,y and z directions, measured in wavelengths.\n",
    "\n",
    "$u = \\frac{(x_1 - x_2)}{\\lambda}$, or $\\lambda u = (x_1 - x_2)$"
   ]
  },
  {
   "cell_type": "code",
   "execution_count": 23,
   "metadata": {},
   "outputs": [
    {
     "data": {
      "text/latex": [
       "$\\displaystyle E_{0}{\\left(\\omega,t \\right)} e^{2 i \\pi \\left(u \\sin{\\left(\\phi_{0} \\right)} \\sin{\\left(\\theta_{0} \\right)} + v \\sin{\\left(\\theta_{0} \\right)} \\cos{\\left(\\phi_{0} \\right)} + w \\cos{\\left(\\theta_{0} \\right)}\\right)} \\overline{E_{0}{\\left(\\omega,t \\right)}}$"
      ],
      "text/plain": [
       "          2⋅ⅈ⋅π⋅(u⋅sin(φ₀)⋅sin(θ₀) + v⋅sin(θ₀)⋅cos(φ₀) + w⋅cos(θ₀)) ________\n",
       "E₀(ω, t)⋅ℯ                                                         ⋅E₀(ω, t)"
      ]
     },
     "execution_count": 23,
     "metadata": {},
     "output_type": "execute_result"
    }
   ],
   "source": [
    "u = sp.Symbol('u')\n",
    "v = sp.Symbol('v')\n",
    "w = sp.Symbol('w')\n",
    "avis_u = analytic_vis.subs([(x1,wavelength*u + x2),])\n",
    "avis_v = avis_u.subs([(y1,wavelength*v + y2),])\n",
    "avis_w = avis_v.subs([(z1,wavelength*w + z2),])\n",
    "avis = sp.simplify(avis_w)\n",
    "avis"
   ]
  },
  {
   "cell_type": "code",
   "execution_count": 24,
   "metadata": {},
   "outputs": [
    {
     "name": "stdout",
     "output_type": "stream",
     "text": [
      "E_{0}{\\left(\\omega,t \\right)} e^{2 i \\pi \\left(u \\sin{\\left(\\phi_{0} \\right)} \\sin{\\left(\\theta_{0} \\right)} + v \\sin{\\left(\\theta_{0} \\right)} \\cos{\\left(\\phi_{0} \\right)} + w \\cos{\\left(\\theta_{0} \\right)}\\right)} \\overline{E_{0}{\\left(\\omega,t \\right)}}\n"
     ]
    }
   ],
   "source": [
    "print(sp.latex(avis))"
   ]
  },
  {
   "cell_type": "markdown",
   "metadata": {},
   "source": [
    "analytic_vis_actual = analytic_vis.subs([(theta0, theta_actual),(phi0, phi_actual)])\n",
    "analytic_vis_actual"
   ]
  },
  {
   "cell_type": "markdown",
   "metadata": {},
   "source": [
    "## Two Source Sky\n",
    "\n",
    "Introduce a second source at position $\\theta_1, \\phi_1$ e.t.c."
   ]
  },
  {
   "cell_type": "code",
   "execution_count": 25,
   "metadata": {},
   "outputs": [],
   "source": [
    "theta1 = sp.Symbol('theta_1', real=True)\n",
    "phi1 = sp.Symbol('phi_1', real=True)\n",
    "amplitude1 = sp.Function('E_1')(omega, t)\n",
    "sky.add(Source(theta1, phi1, amplitude1))"
   ]
  },
  {
   "cell_type": "code",
   "execution_count": 26,
   "metadata": {},
   "outputs": [
    {
     "name": "stdout",
     "output_type": "stream",
     "text": [
      "\\left(E_{0}{\\left(\\omega,t \\right)} e^{\\frac{i \\left(\\lambda \\omega t + 2 \\pi \\left(x \\sin{\\left(\\phi_{0} \\right)} \\sin{\\left(\\theta_{0} \\right)} + y \\sin{\\left(\\theta_{0} \\right)} \\cos{\\left(\\phi_{0} \\right)} + z \\cos{\\left(\\theta_{0} \\right)}\\right)\\right)}{\\lambda}} + E_{1}{\\left(\\omega,t \\right)} e^{\\frac{i \\left(\\lambda \\omega t + 2 \\pi \\left(x \\sin{\\left(\\phi_{1} \\right)} \\sin{\\left(\\theta_{1} \\right)} + y \\sin{\\left(\\theta_{1} \\right)} \\cos{\\left(\\phi_{1} \\right)} + z \\cos{\\left(\\theta_{1} \\right)}\\right)\\right)}{\\lambda}}\\right) e^{- i \\omega t}\n"
     ]
    },
    {
     "data": {
      "text/latex": [
       "$\\displaystyle \\left(E_{0}{\\left(\\omega,t \\right)} e^{\\frac{i \\left(\\lambda \\omega t + 2 \\pi \\left(x \\sin{\\left(\\phi_{0} \\right)} \\sin{\\left(\\theta_{0} \\right)} + y \\sin{\\left(\\theta_{0} \\right)} \\cos{\\left(\\phi_{0} \\right)} + z \\cos{\\left(\\theta_{0} \\right)}\\right)\\right)}{\\lambda}} + E_{1}{\\left(\\omega,t \\right)} e^{\\frac{i \\left(\\lambda \\omega t + 2 \\pi \\left(x \\sin{\\left(\\phi_{1} \\right)} \\sin{\\left(\\theta_{1} \\right)} + y \\sin{\\left(\\theta_{1} \\right)} \\cos{\\left(\\phi_{1} \\right)} + z \\cos{\\left(\\theta_{1} \\right)}\\right)\\right)}{\\lambda}}\\right) e^{- i \\omega t}$"
      ],
      "text/plain": [
       "⎛          ⅈ⋅(λ⋅ω⋅t + 2⋅π⋅(x⋅sin(φ₀)⋅sin(θ₀) + y⋅sin(θ₀)⋅cos(φ₀) + z⋅cos(θ₀))) ↪\n",
       "⎜          ─────────────────────────────────────────────────────────────────── ↪\n",
       "⎜                                           λ                                  ↪\n",
       "⎝E₀(ω, t)⋅ℯ                                                                    ↪\n",
       "\n",
       "↪              ⅈ⋅(λ⋅ω⋅t + 2⋅π⋅(x⋅sin(φ₁)⋅sin(θ₁) + y⋅sin(θ₁)⋅cos(φ₁) + z⋅cos(θ ↪\n",
       "↪              ─────────────────────────────────────────────────────────────── ↪\n",
       "↪                                               λ                              ↪\n",
       "↪  + E₁(ω, t)⋅ℯ                                                                ↪\n",
       "\n",
       "↪ ₁)))⎞        \n",
       "↪ ────⎟        \n",
       "↪     ⎟  -ⅈ⋅ω⋅t\n",
       "↪     ⎠⋅ℯ      "
      ]
     },
     "execution_count": 26,
     "metadata": {},
     "output_type": "execute_result"
    }
   ],
   "source": [
    "print(sp.latex(rx.baseband(sky, omega_0)))\n",
    "rx.baseband(sky, omega_0)"
   ]
  },
  {
   "cell_type": "code",
   "execution_count": 27,
   "metadata": {},
   "outputs": [
    {
     "data": {
      "text/latex": [
       "$\\displaystyle \\left(E_{0}{\\left(\\omega,t \\right)} e^{\\frac{i \\left(\\lambda \\omega t + 2 \\pi \\left(x \\sin{\\left(\\phi_{0} \\right)} \\sin{\\left(\\theta_{0} \\right)} + y \\sin{\\left(\\theta_{0} \\right)} \\cos{\\left(\\phi_{0} \\right)} + z \\cos{\\left(\\theta_{0} \\right)}\\right)\\right)}{\\lambda}} + E_{1}{\\left(\\omega,t \\right)} e^{\\frac{i \\left(\\lambda \\omega t + 2 \\pi \\left(x \\sin{\\left(\\phi_{1} \\right)} \\sin{\\left(\\theta_{1} \\right)} + y \\sin{\\left(\\theta_{1} \\right)} \\cos{\\left(\\phi_{1} \\right)} + z \\cos{\\left(\\theta_{1} \\right)}\\right)\\right)}{\\lambda}}\\right) e^{- i \\omega t}$"
      ],
      "text/plain": [
       "⎛          ⅈ⋅(λ⋅ω⋅t + 2⋅π⋅(x⋅sin(φ₀)⋅sin(θ₀) + y⋅sin(θ₀)⋅cos(φ₀) + z⋅cos(θ₀))) ↪\n",
       "⎜          ─────────────────────────────────────────────────────────────────── ↪\n",
       "⎜                                           λ                                  ↪\n",
       "⎝E₀(ω, t)⋅ℯ                                                                    ↪\n",
       "\n",
       "↪              ⅈ⋅(λ⋅ω⋅t + 2⋅π⋅(x⋅sin(φ₁)⋅sin(θ₁) + y⋅sin(θ₁)⋅cos(φ₁) + z⋅cos(θ ↪\n",
       "↪              ─────────────────────────────────────────────────────────────── ↪\n",
       "↪                                               λ                              ↪\n",
       "↪  + E₁(ω, t)⋅ℯ                                                                ↪\n",
       "\n",
       "↪ ₁)))⎞        \n",
       "↪ ────⎟        \n",
       "↪     ⎟  -ⅈ⋅ω⋅t\n",
       "↪     ⎠⋅ℯ      "
      ]
     },
     "execution_count": 27,
     "metadata": {},
     "output_type": "execute_result"
    }
   ],
   "source": [
    "bb = rx.baseband(sky, omega_0)\n",
    "bb"
   ]
  },
  {
   "cell_type": "code",
   "execution_count": 28,
   "metadata": {},
   "outputs": [
    {
     "data": {
      "text/latex": [
       "$\\displaystyle E_{0}{\\left(\\omega,t \\right)} e^{\\frac{2 i \\pi z_{1} \\cos{\\left(\\theta_{0} \\right)}}{\\lambda}} e^{- \\frac{2 i \\pi z_{2} \\cos{\\left(\\theta_{1} \\right)}}{\\lambda}} e^{\\frac{2 i \\pi x_{1} \\sin{\\left(\\phi_{0} \\right)} \\sin{\\left(\\theta_{0} \\right)}}{\\lambda}} e^{- \\frac{2 i \\pi x_{2} \\sin{\\left(\\phi_{1} \\right)} \\sin{\\left(\\theta_{1} \\right)}}{\\lambda}} e^{\\frac{2 i \\pi y_{1} \\sin{\\left(\\theta_{0} \\right)} \\cos{\\left(\\phi_{0} \\right)}}{\\lambda}} e^{- \\frac{2 i \\pi y_{2} \\sin{\\left(\\theta_{1} \\right)} \\cos{\\left(\\phi_{1} \\right)}}{\\lambda}} \\overline{E_{1}{\\left(\\omega,t \\right)}} + E_{0}{\\left(\\omega,t \\right)} e^{\\frac{2 i \\pi z_{1} \\cos{\\left(\\theta_{0} \\right)}}{\\lambda}} e^{- \\frac{2 i \\pi z_{2} \\cos{\\left(\\theta_{0} \\right)}}{\\lambda}} e^{\\frac{2 i \\pi x_{1} \\sin{\\left(\\phi_{0} \\right)} \\sin{\\left(\\theta_{0} \\right)}}{\\lambda}} e^{- \\frac{2 i \\pi x_{2} \\sin{\\left(\\phi_{0} \\right)} \\sin{\\left(\\theta_{0} \\right)}}{\\lambda}} e^{\\frac{2 i \\pi y_{1} \\sin{\\left(\\theta_{0} \\right)} \\cos{\\left(\\phi_{0} \\right)}}{\\lambda}} e^{- \\frac{2 i \\pi y_{2} \\sin{\\left(\\theta_{0} \\right)} \\cos{\\left(\\phi_{0} \\right)}}{\\lambda}} \\overline{E_{0}{\\left(\\omega,t \\right)}} + E_{1}{\\left(\\omega,t \\right)} e^{\\frac{2 i \\pi z_{1} \\cos{\\left(\\theta_{1} \\right)}}{\\lambda}} e^{- \\frac{2 i \\pi z_{2} \\cos{\\left(\\theta_{1} \\right)}}{\\lambda}} e^{\\frac{2 i \\pi x_{1} \\sin{\\left(\\phi_{1} \\right)} \\sin{\\left(\\theta_{1} \\right)}}{\\lambda}} e^{- \\frac{2 i \\pi x_{2} \\sin{\\left(\\phi_{1} \\right)} \\sin{\\left(\\theta_{1} \\right)}}{\\lambda}} e^{\\frac{2 i \\pi y_{1} \\sin{\\left(\\theta_{1} \\right)} \\cos{\\left(\\phi_{1} \\right)}}{\\lambda}} e^{- \\frac{2 i \\pi y_{2} \\sin{\\left(\\theta_{1} \\right)} \\cos{\\left(\\phi_{1} \\right)}}{\\lambda}} \\overline{E_{1}{\\left(\\omega,t \\right)}} + E_{1}{\\left(\\omega,t \\right)} e^{\\frac{2 i \\pi z_{1} \\cos{\\left(\\theta_{1} \\right)}}{\\lambda}} e^{- \\frac{2 i \\pi z_{2} \\cos{\\left(\\theta_{0} \\right)}}{\\lambda}} e^{\\frac{2 i \\pi x_{1} \\sin{\\left(\\phi_{1} \\right)} \\sin{\\left(\\theta_{1} \\right)}}{\\lambda}} e^{- \\frac{2 i \\pi x_{2} \\sin{\\left(\\phi_{0} \\right)} \\sin{\\left(\\theta_{0} \\right)}}{\\lambda}} e^{\\frac{2 i \\pi y_{1} \\sin{\\left(\\theta_{1} \\right)} \\cos{\\left(\\phi_{1} \\right)}}{\\lambda}} e^{- \\frac{2 i \\pi y_{2} \\sin{\\left(\\theta_{0} \\right)} \\cos{\\left(\\phi_{0} \\right)}}{\\lambda}} \\overline{E_{0}{\\left(\\omega,t \\right)}}$"
      ],
      "text/plain": [
       "          2⋅ⅈ⋅π⋅z₁⋅cos(θ₀)  -2⋅ⅈ⋅π⋅z₂⋅cos(θ₁)   2⋅ⅈ⋅π⋅x₁⋅sin(φ₀)⋅sin(θ₀)  -2⋅ⅈ ↪\n",
       "          ────────────────  ──────────────────  ────────────────────────  ──── ↪\n",
       "                 λ                  λ                      λ                   ↪\n",
       "E₀(ω, t)⋅ℯ                ⋅ℯ                  ⋅ℯ                        ⋅ℯ     ↪\n",
       "\n",
       "↪ ⋅π⋅x₂⋅sin(φ₁)⋅sin(θ₁)   2⋅ⅈ⋅π⋅y₁⋅sin(θ₀)⋅cos(φ₀)  -2⋅ⅈ⋅π⋅y₂⋅sin(θ₁)⋅cos(φ₁)  ↪\n",
       "↪ ──────────────────────  ────────────────────────  ────────────────────────── ↪\n",
       "↪         λ                          λ                          λ              ↪\n",
       "↪                       ⋅ℯ                        ⋅ℯ                           ↪\n",
       "\n",
       "↪                       2⋅ⅈ⋅π⋅z₁⋅cos(θ₀)  -2⋅ⅈ⋅π⋅z₂⋅cos(θ₀)   2⋅ⅈ⋅π⋅x₁⋅sin(φ₀) ↪\n",
       "↪                       ────────────────  ──────────────────  ──────────────── ↪\n",
       "↪  ________                    λ                  λ                      λ     ↪\n",
       "↪ ⋅E₁(ω, t) + E₀(ω, t)⋅ℯ                ⋅ℯ                  ⋅ℯ                 ↪\n",
       "\n",
       "↪ ⋅sin(θ₀)  -2⋅ⅈ⋅π⋅x₂⋅sin(φ₀)⋅sin(θ₀)   2⋅ⅈ⋅π⋅y₁⋅sin(θ₀)⋅cos(φ₀)  -2⋅ⅈ⋅π⋅y₂⋅si ↪\n",
       "↪ ────────  ──────────────────────────  ────────────────────────  ──────────── ↪\n",
       "↪                       λ                          λ                           ↪\n",
       "↪         ⋅ℯ                          ⋅ℯ                        ⋅ℯ             ↪\n",
       "\n",
       "↪ n(θ₀)⋅cos(φ₀)                       2⋅ⅈ⋅π⋅z₁⋅cos(θ₁)  -2⋅ⅈ⋅π⋅z₂⋅cos(θ₁)   2⋅ ↪\n",
       "↪ ──────────────                      ────────────────  ──────────────────  ── ↪\n",
       "↪ λ              ________                    λ                  λ              ↪\n",
       "↪               ⋅E₀(ω, t) + E₁(ω, t)⋅ℯ                ⋅ℯ                  ⋅ℯ   ↪\n",
       "\n",
       "↪ ⅈ⋅π⋅x₁⋅sin(φ₁)⋅sin(θ₁)  -2⋅ⅈ⋅π⋅x₂⋅sin(φ₁)⋅sin(θ₁)   2⋅ⅈ⋅π⋅y₁⋅sin(θ₁)⋅cos(φ₁) ↪\n",
       "↪ ──────────────────────  ──────────────────────────  ──────────────────────── ↪\n",
       "↪          λ                          λ                          λ             ↪\n",
       "↪                       ⋅ℯ                          ⋅ℯ                         ↪\n",
       "\n",
       "↪   -2⋅ⅈ⋅π⋅y₂⋅sin(θ₁)⋅cos(φ₁)                       2⋅ⅈ⋅π⋅z₁⋅cos(θ₁)  -2⋅ⅈ⋅π⋅z ↪\n",
       "↪   ──────────────────────────                      ────────────────  ──────── ↪\n",
       "↪               λ              ________                    λ                   ↪\n",
       "↪ ⋅ℯ                          ⋅E₁(ω, t) + E₁(ω, t)⋅ℯ                ⋅ℯ         ↪\n",
       "\n",
       "↪ ₂⋅cos(θ₀)   2⋅ⅈ⋅π⋅x₁⋅sin(φ₁)⋅sin(θ₁)  -2⋅ⅈ⋅π⋅x₂⋅sin(φ₀)⋅sin(θ₀)   2⋅ⅈ⋅π⋅y₁⋅s ↪\n",
       "↪ ──────────  ────────────────────────  ──────────────────────────  ────────── ↪\n",
       "↪ λ                      λ                          λ                          ↪\n",
       "↪           ⋅ℯ                        ⋅ℯ                          ⋅ℯ           ↪\n",
       "\n",
       "↪ in(θ₁)⋅cos(φ₁)  -2⋅ⅈ⋅π⋅y₂⋅sin(θ₀)⋅cos(φ₀)          \n",
       "↪ ──────────────  ──────────────────────────         \n",
       "↪  λ                          λ              ________\n",
       "↪               ⋅ℯ                          ⋅E₀(ω, t)"
      ]
     },
     "execution_count": 28,
     "metadata": {},
     "output_type": "execute_result"
    }
   ],
   "source": [
    "analytic_vis = Analytic_vis(x1, y1, x2, y2, z1, z2, bb).get_vis()\n",
    "analytic_vis = sp.expand(analytic_vis)\n",
    "analytic_vis"
   ]
  },
  {
   "cell_type": "code",
   "execution_count": 29,
   "metadata": {},
   "outputs": [
    {
     "data": {
      "text/latex": [
       "$\\displaystyle E_{0}{\\left(\\omega,t \\right)} e^{2 i \\pi \\left(u \\sin{\\left(\\phi_{0} \\right)} \\sin{\\left(\\theta_{0} \\right)} + v \\sin{\\left(\\theta_{0} \\right)} \\cos{\\left(\\phi_{0} \\right)} + w \\cos{\\left(\\theta_{0} \\right)}\\right)} \\overline{E_{0}{\\left(\\omega,t \\right)}} + E_{0}{\\left(\\omega,t \\right)} e^{\\frac{2 i \\pi \\left(x_{1} \\sin{\\left(\\phi_{0} \\right)} \\sin{\\left(\\theta_{0} \\right)} + y_{1} \\sin{\\left(\\theta_{0} \\right)} \\cos{\\left(\\phi_{0} \\right)} + z_{1} \\cos{\\left(\\theta_{0} \\right)} + \\left(\\lambda u - x_{1}\\right) \\sin{\\left(\\phi_{1} \\right)} \\sin{\\left(\\theta_{1} \\right)} + \\left(\\lambda v - y_{1}\\right) \\sin{\\left(\\theta_{1} \\right)} \\cos{\\left(\\phi_{1} \\right)} + \\left(\\lambda w - z_{1}\\right) \\cos{\\left(\\theta_{1} \\right)}\\right)}{\\lambda}} \\overline{E_{1}{\\left(\\omega,t \\right)}} + E_{1}{\\left(\\omega,t \\right)} e^{2 i \\pi \\left(u \\sin{\\left(\\phi_{1} \\right)} \\sin{\\left(\\theta_{1} \\right)} + v \\sin{\\left(\\theta_{1} \\right)} \\cos{\\left(\\phi_{1} \\right)} + w \\cos{\\left(\\theta_{1} \\right)}\\right)} \\overline{E_{1}{\\left(\\omega,t \\right)}} + E_{1}{\\left(\\omega,t \\right)} e^{\\frac{2 i \\pi \\left(x_{1} \\sin{\\left(\\phi_{1} \\right)} \\sin{\\left(\\theta_{1} \\right)} + y_{1} \\sin{\\left(\\theta_{1} \\right)} \\cos{\\left(\\phi_{1} \\right)} + z_{1} \\cos{\\left(\\theta_{1} \\right)} + \\left(\\lambda u - x_{1}\\right) \\sin{\\left(\\phi_{0} \\right)} \\sin{\\left(\\theta_{0} \\right)} + \\left(\\lambda v - y_{1}\\right) \\sin{\\left(\\theta_{0} \\right)} \\cos{\\left(\\phi_{0} \\right)} + \\left(\\lambda w - z_{1}\\right) \\cos{\\left(\\theta_{0} \\right)}\\right)}{\\lambda}} \\overline{E_{0}{\\left(\\omega,t \\right)}}$"
      ],
      "text/plain": [
       "                                                                               ↪\n",
       "                                                                               ↪\n",
       "          2⋅ⅈ⋅π⋅(u⋅sin(φ₀)⋅sin(θ₀) + v⋅sin(θ₀)⋅cos(φ₀) + w⋅cos(θ₀)) ________   ↪\n",
       "E₀(ω, t)⋅ℯ                                                         ⋅E₀(ω, t) + ↪\n",
       "\n",
       "↪            2⋅ⅈ⋅π⋅(x₁⋅sin(φ₀)⋅sin(θ₀) + y₁⋅sin(θ₀)⋅cos(φ₀) + z₁⋅cos(θ₀) + (λ⋅ ↪\n",
       "↪            ───────────────────────────────────────────────────────────────── ↪\n",
       "↪                                                                              ↪\n",
       "↪  E₀(ω, t)⋅ℯ                                                                  ↪\n",
       "\n",
       "↪ u - x₁)⋅sin(φ₁)⋅sin(θ₁) + (λ⋅v - y₁)⋅sin(θ₁)⋅cos(φ₁) + (λ⋅w - z₁)⋅cos(θ₁))   ↪\n",
       "↪ ──────────────────────────────────────────────────────────────────────────   ↪\n",
       "↪     λ                                                                      _ ↪\n",
       "↪                                                                           ⋅E ↪\n",
       "\n",
       "↪                                                                              ↪\n",
       "↪                                                                              ↪\n",
       "↪ _______             2⋅ⅈ⋅π⋅(u⋅sin(φ₁)⋅sin(θ₁) + v⋅sin(θ₁)⋅cos(φ₁) + w⋅cos(θ₁) ↪\n",
       "↪ ₁(ω, t) + E₁(ω, t)⋅ℯ                                                         ↪\n",
       "\n",
       "↪                        2⋅ⅈ⋅π⋅(x₁⋅sin(φ₁)⋅sin(θ₁) + y₁⋅sin(θ₁)⋅cos(φ₁) + z₁⋅c ↪\n",
       "↪                        ───────────────────────────────────────────────────── ↪\n",
       "↪ ) ________                                                                   ↪\n",
       "↪  ⋅E₁(ω, t) + E₁(ω, t)⋅ℯ                                                      ↪\n",
       "\n",
       "↪ os(θ₁) + (λ⋅u - x₁)⋅sin(φ₀)⋅sin(θ₀) + (λ⋅v - y₁)⋅sin(θ₀)⋅cos(φ₀) + (λ⋅w - z₁ ↪\n",
       "↪ ──────────────────────────────────────────────────────────────────────────── ↪\n",
       "↪                 λ                                                            ↪\n",
       "↪                                                                              ↪\n",
       "\n",
       "↪ )⋅cos(θ₀))         \n",
       "↪ ──────────         \n",
       "↪            ________\n",
       "↪           ⋅E₀(ω, t)"
      ]
     },
     "execution_count": 29,
     "metadata": {},
     "output_type": "execute_result"
    }
   ],
   "source": [
    "avis_u = analytic_vis.subs([(x2,x1 - wavelength*u),])\n",
    "avis_v = avis_u.subs([(y2,y1 - wavelength*v),])\n",
    "avis_w = avis_v.subs([(z2,z1 - wavelength*w),])\n",
    "avis = sp.simplify(avis_w)\n",
    "#avis = avis_w\n",
    "avis"
   ]
  },
  {
   "cell_type": "markdown",
   "metadata": {},
   "source": [
    "Now we have to assume that the two sources are incoherent. In other words that the average of $\\int E_0(t) E_1(t) \\equiv 0$ which leaves the two terms independent."
   ]
  },
  {
   "cell_type": "markdown",
   "metadata": {},
   "source": [
    "The visibilities are therefore the sum of the visibiities from each independent source!"
   ]
  },
  {
   "cell_type": "code",
   "execution_count": 30,
   "metadata": {},
   "outputs": [
    {
     "data": {
      "text/latex": [
       "$\\displaystyle E_{0}{\\left(\\omega,t \\right)} e^{2 i \\pi \\left(u \\sin{\\left(\\phi_{0} \\right)} \\sin{\\left(\\theta_{0} \\right)} + v \\sin{\\left(\\theta_{0} \\right)} \\cos{\\left(\\phi_{0} \\right)} + w \\cos{\\left(\\theta_{0} \\right)}\\right)} \\overline{E_{0}{\\left(\\omega,t \\right)}} + E_{1}{\\left(\\omega,t \\right)} e^{2 i \\pi \\left(u \\sin{\\left(\\phi_{1} \\right)} \\sin{\\left(\\theta_{1} \\right)} + v \\sin{\\left(\\theta_{1} \\right)} \\cos{\\left(\\phi_{1} \\right)} + w \\cos{\\left(\\theta_{1} \\right)}\\right)} \\overline{E_{1}{\\left(\\omega,t \\right)}}$"
      ],
      "text/plain": [
       "          2⋅ⅈ⋅π⋅(u⋅sin(φ₀)⋅sin(θ₀) + v⋅sin(θ₀)⋅cos(φ₀) + w⋅cos(θ₀)) ________   ↪\n",
       "E₀(ω, t)⋅ℯ                                                         ⋅E₀(ω, t) + ↪\n",
       "\n",
       "↪            2⋅ⅈ⋅π⋅(u⋅sin(φ₁)⋅sin(θ₁) + v⋅sin(θ₁)⋅cos(φ₁) + w⋅cos(θ₁)) _______ ↪\n",
       "↪  E₁(ω, t)⋅ℯ                                                         ⋅E₁(ω, t ↪\n",
       "\n",
       "↪ _\n",
       "↪ )"
      ]
     },
     "execution_count": 30,
     "metadata": {},
     "output_type": "execute_result"
    }
   ],
   "source": [
    "def term(expr, factor):\n",
    "    return sp.simplify(factor*sp.expand(expr).coeff(factor))\n",
    "\n",
    "vis = term(avis, amplitude0*sp.conjugate(amplitude0)) + term(avis, amplitude1*sp.conjugate(amplitude1))\n",
    "\n",
    "vis"
   ]
  },
  {
   "cell_type": "code",
   "execution_count": 31,
   "metadata": {},
   "outputs": [
    {
     "name": "stdout",
     "output_type": "stream",
     "text": [
      "E_{0}{\\left(\\omega,t \\right)} e^{2 i \\pi \\left(u \\sin{\\left(\\phi_{0} \\right)} \\sin{\\left(\\theta_{0} \\right)} + v \\sin{\\left(\\theta_{0} \\right)} \\cos{\\left(\\phi_{0} \\right)} + w \\cos{\\left(\\theta_{0} \\right)}\\right)} \\overline{E_{0}{\\left(\\omega,t \\right)}} + E_{1}{\\left(\\omega,t \\right)} e^{2 i \\pi \\left(u \\sin{\\left(\\phi_{1} \\right)} \\sin{\\left(\\theta_{1} \\right)} + v \\sin{\\left(\\theta_{1} \\right)} \\cos{\\left(\\phi_{1} \\right)} + w \\cos{\\left(\\theta_{1} \\right)}\\right)} \\overline{E_{1}{\\left(\\omega,t \\right)}}\n"
     ]
    }
   ],
   "source": [
    "print(sp.latex(vis))"
   ]
  },
  {
   "cell_type": "code",
   "execution_count": null,
   "metadata": {},
   "outputs": [],
   "source": []
  }
 ],
 "metadata": {
  "kernelspec": {
   "display_name": "Python 3 (ipykernel)",
   "language": "python",
   "name": "python3"
  },
  "language_info": {
   "codemirror_mode": {
    "name": "ipython",
    "version": 3
   },
   "file_extension": ".py",
   "mimetype": "text/x-python",
   "name": "python",
   "nbconvert_exporter": "python",
   "pygments_lexer": "ipython3",
   "version": "3.12.7"
  }
 },
 "nbformat": 4,
 "nbformat_minor": 2
}
